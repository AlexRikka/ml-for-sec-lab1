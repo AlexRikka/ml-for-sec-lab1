{
 "cells": [
  {
   "cell_type": "markdown",
   "id": "d379cfd0",
   "metadata": {},
   "source": [
    "# Imports"
   ]
  },
  {
   "cell_type": "code",
   "execution_count": 1,
   "id": "5ae0be56",
   "metadata": {
    "ExecuteTime": {
     "end_time": "2022-11-20T11:02:41.558789Z",
     "start_time": "2022-11-20T11:02:21.210926Z"
    }
   },
   "outputs": [],
   "source": [
    "import pandas as pd\n",
    "import numpy as np\n",
    "import matplotlib.pyplot as plt\n",
    "import seaborn as sns\n",
    "import pickle\n",
    "import sklearn\n",
    "from sklearn.ensemble import RandomForestClassifier\n",
    "from sklearn.model_selection import train_test_split\n",
    "from sklearn.metrics import confusion_matrix, ConfusionMatrixDisplay\n",
    "from sklearn.metrics import f1_score, recall_score, precision_score\n",
    "from sklearn.metrics import classification_report\n",
    "from skopt import BayesSearchCV\n",
    "import warnings\n",
    "warnings.filterwarnings('ignore')"
   ]
  },
  {
   "cell_type": "markdown",
   "id": "84979387",
   "metadata": {
    "heading_collapsed": true
   },
   "source": [
    "# Data import"
   ]
  },
  {
   "cell_type": "code",
   "execution_count": 2,
   "id": "f589eca4",
   "metadata": {
    "ExecuteTime": {
     "end_time": "2022-11-20T11:02:55.078969Z",
     "start_time": "2022-11-20T11:02:54.938971Z"
    },
    "hidden": true
   },
   "outputs": [],
   "source": [
    "features_df = pd.read_csv(\"features_train.csv\")"
   ]
  },
  {
   "cell_type": "code",
   "execution_count": 3,
   "id": "4be15e44",
   "metadata": {
    "ExecuteTime": {
     "end_time": "2022-11-20T11:02:55.157967Z",
     "start_time": "2022-11-20T11:02:55.114973Z"
    },
    "hidden": true
   },
   "outputs": [],
   "source": [
    "classes_df = pd.read_csv(\"classes_train.csv\")"
   ]
  },
  {
   "cell_type": "markdown",
   "id": "1046ff13",
   "metadata": {
    "heading_collapsed": true
   },
   "source": [
    "# Data Exploration"
   ]
  },
  {
   "cell_type": "code",
   "execution_count": 4,
   "id": "ce527f5f",
   "metadata": {
    "ExecuteTime": {
     "end_time": "2022-11-15T20:28:35.171534Z",
     "start_time": "2022-11-15T20:28:35.140259Z"
    },
    "hidden": true
   },
   "outputs": [],
   "source": [
    "data_df = pd.concat([features_df, classes_df], axis=1)"
   ]
  },
  {
   "cell_type": "code",
   "execution_count": 5,
   "id": "5caf16c7",
   "metadata": {
    "ExecuteTime": {
     "end_time": "2022-11-15T20:28:35.278870Z",
     "start_time": "2022-11-15T20:28:35.187131Z"
    },
    "hidden": true
   },
   "outputs": [
    {
     "data": {
      "text/plain": [
       "is_bot\n",
       "0         1800\n",
       "1          600\n",
       "dtype: int64"
      ]
     },
     "execution_count": 5,
     "metadata": {},
     "output_type": "execute_result"
    }
   ],
   "source": [
    "classes_df.value_counts()"
   ]
  },
  {
   "cell_type": "code",
   "execution_count": 6,
   "id": "e5de1a96",
   "metadata": {
    "ExecuteTime": {
     "end_time": "2022-11-15T20:28:35.310356Z",
     "start_time": "2022-11-15T20:28:35.278870Z"
    },
    "hidden": true
   },
   "outputs": [],
   "source": [
    "X_train, X_test, y_train, y_test = train_test_split(\n",
    "    features_df, classes_df, test_size=0.2, random_state=0)"
   ]
  },
  {
   "cell_type": "code",
   "execution_count": 8,
   "id": "44bdf84a",
   "metadata": {
    "ExecuteTime": {
     "end_time": "2022-11-15T20:33:09.431984Z",
     "start_time": "2022-11-15T20:33:09.416981Z"
    },
    "hidden": true
   },
   "outputs": [],
   "source": [
    "X_test.to_csv('features_test.csv')\n",
    "y_test.to_csv('classes_test.csv')"
   ]
  },
  {
   "cell_type": "code",
   "execution_count": 10,
   "id": "040b66f6",
   "metadata": {
    "hidden": true
   },
   "outputs": [
    {
     "name": "stderr",
     "output_type": "stream",
     "text": [
      "<timed exec>:2: DataConversionWarning: A column-vector y was passed when a 1d array was expected. Please change the shape of y to (n_samples,), for example using ravel().\n"
     ]
    },
    {
     "name": "stdout",
     "output_type": "stream",
     "text": [
      "CPU times: total: 656 ms\n",
      "Wall time: 770 ms\n"
     ]
    },
    {
     "data": {
      "text/html": [
       "<style>#sk-container-id-1 {color: black;background-color: white;}#sk-container-id-1 pre{padding: 0;}#sk-container-id-1 div.sk-toggleable {background-color: white;}#sk-container-id-1 label.sk-toggleable__label {cursor: pointer;display: block;width: 100%;margin-bottom: 0;padding: 0.3em;box-sizing: border-box;text-align: center;}#sk-container-id-1 label.sk-toggleable__label-arrow:before {content: \"▸\";float: left;margin-right: 0.25em;color: #696969;}#sk-container-id-1 label.sk-toggleable__label-arrow:hover:before {color: black;}#sk-container-id-1 div.sk-estimator:hover label.sk-toggleable__label-arrow:before {color: black;}#sk-container-id-1 div.sk-toggleable__content {max-height: 0;max-width: 0;overflow: hidden;text-align: left;background-color: #f0f8ff;}#sk-container-id-1 div.sk-toggleable__content pre {margin: 0.2em;color: black;border-radius: 0.25em;background-color: #f0f8ff;}#sk-container-id-1 input.sk-toggleable__control:checked~div.sk-toggleable__content {max-height: 200px;max-width: 100%;overflow: auto;}#sk-container-id-1 input.sk-toggleable__control:checked~label.sk-toggleable__label-arrow:before {content: \"▾\";}#sk-container-id-1 div.sk-estimator input.sk-toggleable__control:checked~label.sk-toggleable__label {background-color: #d4ebff;}#sk-container-id-1 div.sk-label input.sk-toggleable__control:checked~label.sk-toggleable__label {background-color: #d4ebff;}#sk-container-id-1 input.sk-hidden--visually {border: 0;clip: rect(1px 1px 1px 1px);clip: rect(1px, 1px, 1px, 1px);height: 1px;margin: -1px;overflow: hidden;padding: 0;position: absolute;width: 1px;}#sk-container-id-1 div.sk-estimator {font-family: monospace;background-color: #f0f8ff;border: 1px dotted black;border-radius: 0.25em;box-sizing: border-box;margin-bottom: 0.5em;}#sk-container-id-1 div.sk-estimator:hover {background-color: #d4ebff;}#sk-container-id-1 div.sk-parallel-item::after {content: \"\";width: 100%;border-bottom: 1px solid gray;flex-grow: 1;}#sk-container-id-1 div.sk-label:hover label.sk-toggleable__label {background-color: #d4ebff;}#sk-container-id-1 div.sk-serial::before {content: \"\";position: absolute;border-left: 1px solid gray;box-sizing: border-box;top: 0;bottom: 0;left: 50%;z-index: 0;}#sk-container-id-1 div.sk-serial {display: flex;flex-direction: column;align-items: center;background-color: white;padding-right: 0.2em;padding-left: 0.2em;position: relative;}#sk-container-id-1 div.sk-item {position: relative;z-index: 1;}#sk-container-id-1 div.sk-parallel {display: flex;align-items: stretch;justify-content: center;background-color: white;position: relative;}#sk-container-id-1 div.sk-item::before, #sk-container-id-1 div.sk-parallel-item::before {content: \"\";position: absolute;border-left: 1px solid gray;box-sizing: border-box;top: 0;bottom: 0;left: 50%;z-index: -1;}#sk-container-id-1 div.sk-parallel-item {display: flex;flex-direction: column;z-index: 1;position: relative;background-color: white;}#sk-container-id-1 div.sk-parallel-item:first-child::after {align-self: flex-end;width: 50%;}#sk-container-id-1 div.sk-parallel-item:last-child::after {align-self: flex-start;width: 50%;}#sk-container-id-1 div.sk-parallel-item:only-child::after {width: 0;}#sk-container-id-1 div.sk-dashed-wrapped {border: 1px dashed gray;margin: 0 0.4em 0.5em 0.4em;box-sizing: border-box;padding-bottom: 0.4em;background-color: white;}#sk-container-id-1 div.sk-label label {font-family: monospace;font-weight: bold;display: inline-block;line-height: 1.2em;}#sk-container-id-1 div.sk-label-container {text-align: center;}#sk-container-id-1 div.sk-container {/* jupyter's `normalize.less` sets `[hidden] { display: none; }` but bootstrap.min.css set `[hidden] { display: none !important; }` so we also need the `!important` here to be able to override the default hidden behavior on the sphinx rendered scikit-learn.org. See: https://github.com/scikit-learn/scikit-learn/issues/21755 */display: inline-block !important;position: relative;}#sk-container-id-1 div.sk-text-repr-fallback {display: none;}</style><div id=\"sk-container-id-1\" class=\"sk-top-container\"><div class=\"sk-text-repr-fallback\"><pre>RandomForestClassifier()</pre><b>In a Jupyter environment, please rerun this cell to show the HTML representation or trust the notebook. <br />On GitHub, the HTML representation is unable to render, please try loading this page with nbviewer.org.</b></div><div class=\"sk-container\" hidden><div class=\"sk-item\"><div class=\"sk-estimator sk-toggleable\"><input class=\"sk-toggleable__control sk-hidden--visually\" id=\"sk-estimator-id-1\" type=\"checkbox\" checked><label for=\"sk-estimator-id-1\" class=\"sk-toggleable__label sk-toggleable__label-arrow\">RandomForestClassifier</label><div class=\"sk-toggleable__content\"><pre>RandomForestClassifier()</pre></div></div></div></div></div>"
      ],
      "text/plain": [
       "RandomForestClassifier()"
      ]
     },
     "execution_count": 10,
     "metadata": {},
     "output_type": "execute_result"
    }
   ],
   "source": [
    "%%time\n",
    "model = RandomForestClassifier()\n",
    "model.fit(X_train, y_train)"
   ]
  },
  {
   "cell_type": "code",
   "execution_count": 11,
   "id": "0479bf47",
   "metadata": {
    "hidden": true
   },
   "outputs": [],
   "source": [
    "predictions = model.predict(X_test)"
   ]
  },
  {
   "cell_type": "code",
   "execution_count": 12,
   "id": "a8f2b0bc",
   "metadata": {
    "hidden": true
   },
   "outputs": [
    {
     "name": "stdout",
     "output_type": "stream",
     "text": [
      "RandomForest\n",
      "              precision    recall  f1-score   support\n",
      "\n",
      "           0       0.99      0.99      0.99       369\n",
      "           1       0.98      0.98      0.98       111\n",
      "\n",
      "    accuracy                           0.99       480\n",
      "   macro avg       0.99      0.99      0.99       480\n",
      "weighted avg       0.99      0.99      0.99       480\n",
      "\n",
      "F1-score:  0.9819819819819819\n"
     ]
    },
    {
     "data": {
      "image/png": "[encoded data removed]",
      "text/plain": [
       "<Figure size 432x288 with 2 Axes>"
      ]
     },
     "metadata": {
      "needs_background": "light"
     },
     "output_type": "display_data"
    }
   ],
   "source": [
    "print(\"RandomForest\")\n",
    "print(classification_report(y_test, predictions))\n",
    "conf_matrix = confusion_matrix(y_test, predictions)\n",
    "sns.heatmap(conf_matrix, annot=True, fmt=\"d\")\n",
    "print(\"F1-score: \", f1_score(y_test, predictions))"
   ]
  },
  {
   "cell_type": "code",
   "execution_count": 13,
   "id": "7f407f3b",
   "metadata": {
    "hidden": true,
    "scrolled": true
   },
   "outputs": [
    {
     "data": {
      "text/plain": [
       "<AxesSubplot:>"
      ]
     },
     "execution_count": 13,
     "metadata": {},
     "output_type": "execute_result"
    },
    {
     "data": {
      "image/png": "[encoded data removed]",
      "text/plain": [
       "<Figure size 432x288 with 1 Axes>"
      ]
     },
     "metadata": {
      "needs_background": "light"
     },
     "output_type": "display_data"
    }
   ],
   "source": [
    "feature_importances = pd.DataFrame(data=model.feature_importances_, index=features_df.columns, columns=['features'])\n",
    "feature_importances.sort_values(by='features', ascending=False, inplace=True)\n",
    "feature_importances.plot(kind='bar', colormap='Pastel1')"
   ]
  },
  {
   "cell_type": "markdown",
   "id": "5c4740f5",
   "metadata": {
    "hidden": true
   },
   "source": [
    "Были выбраны 10 самых значимых признаков для дальнейшего использования в классификации."
   ]
  },
  {
   "cell_type": "code",
   "execution_count": 14,
   "id": "f4d5577b",
   "metadata": {
    "hidden": true
   },
   "outputs": [
    {
     "data": {
      "text/plain": [
       "Index(['is_verified', 'friends_count', 'friends_growth_rate',\n",
       "       'favourites_count', 'favourites_growth_rate', 'user_age',\n",
       "       'followers_count', 'listed_count', 'followers_growth_rate',\n",
       "       'followers_friends_ratio'],\n",
       "      dtype='object')"
      ]
     },
     "execution_count": 14,
     "metadata": {},
     "output_type": "execute_result"
    }
   ],
   "source": [
    "feature_importances.index[:10]"
   ]
  },
  {
   "cell_type": "markdown",
   "id": "69e81ddf",
   "metadata": {},
   "source": [
    "# Classification"
   ]
  },
  {
   "cell_type": "code",
   "execution_count": 4,
   "id": "bbc270f1",
   "metadata": {
    "ExecuteTime": {
     "end_time": "2022-11-20T11:04:33.823023Z",
     "start_time": "2022-11-20T11:04:33.775025Z"
    }
   },
   "outputs": [],
   "source": [
    "new_features_df = features_df[['is_verified', 'friends_count', \n",
    "                               'friends_growth_rate','favourites_count', \n",
    "                               'favourites_growth_rate', 'user_age',\n",
    "                               'followers_count', 'listed_count', \n",
    "                               'followers_growth_rate', 'followers_friends_ratio']]"
   ]
  },
  {
   "cell_type": "code",
   "execution_count": 5,
   "id": "199007f2",
   "metadata": {
    "ExecuteTime": {
     "end_time": "2022-11-20T11:04:34.429024Z",
     "start_time": "2022-11-20T11:04:34.420024Z"
    }
   },
   "outputs": [],
   "source": [
    "# Split data to training and testing sets\n",
    "X_train, X_test, y_train, y_test = train_test_split(\n",
    "    new_features_df, classes_df, test_size=0.2, random_state=0)"
   ]
  },
  {
   "cell_type": "code",
   "execution_count": 6,
   "id": "259bd891",
   "metadata": {
    "ExecuteTime": {
     "end_time": "2022-11-20T11:04:34.721023Z",
     "start_time": "2022-11-20T11:04:34.699025Z"
    }
   },
   "outputs": [
    {
     "data": {
      "text/plain": [
       "(1920, 10)"
      ]
     },
     "execution_count": 6,
     "metadata": {},
     "output_type": "execute_result"
    }
   ],
   "source": [
    "X_train.shape"
   ]
  },
  {
   "cell_type": "code",
   "execution_count": 11,
   "id": "2f461964",
   "metadata": {
    "ExecuteTime": {
     "end_time": "2022-11-20T11:07:03.353779Z",
     "start_time": "2022-11-20T11:07:03.340776Z"
    }
   },
   "outputs": [
    {
     "name": "stdout",
     "output_type": "stream",
     "text": [
      "3\n"
     ]
    }
   ],
   "source": [
    "import multiprocessing\n",
    "n_jobs = multiprocessing.cpu_count()-1\n",
    "print(n_jobs)"
   ]
  },
  {
   "cell_type": "code",
   "execution_count": 12,
   "id": "84985c20",
   "metadata": {
    "ExecuteTime": {
     "end_time": "2022-11-20T11:15:07.810955Z",
     "start_time": "2022-11-20T11:07:03.997777Z"
    }
   },
   "outputs": [
    {
     "name": "stdout",
     "output_type": "stream",
     "text": [
      "Best parameters:  OrderedDict([('criterion', 'entropy'), ('max_depth', 29), ('max_features', 'log2'), ('random_state', 23)])\n",
      "Best score:  0.9939270756343928\n",
      "CPU times: total: 6min 45s\n",
      "Wall time: 8min 3s\n"
     ]
    }
   ],
   "source": [
    "%%time\n",
    "parameters = {\n",
    "    'criterion': ['gini', 'entropy'],\n",
    "    'max_depth': [i for i in range(2, 40)],\n",
    "    'max_features': ['log2', 'sqrt'], \n",
    "    'random_state': [23],\n",
    "}\n",
    "b_search = BayesSearchCV( \n",
    "    estimator=RandomForestClassifier(),\n",
    "    scoring='precision',\n",
    "    search_spaces=parameters,\n",
    "    cv=3,\n",
    "    n_iter=120,\n",
    "    n_jobs=n_jobs\n",
    ")\n",
    "\n",
    "b_search.fit(X_train, y_train)\n",
    "print('Best parameters: ', b_search.best_params_)\n",
    "print(\"Best score: \", b_search.best_score_)"
   ]
  },
  {
   "cell_type": "code",
   "execution_count": 15,
   "id": "f6ad426f",
   "metadata": {
    "ExecuteTime": {
     "end_time": "2022-11-20T11:31:25.074483Z",
     "start_time": "2022-11-20T11:31:25.065487Z"
    },
    "scrolled": true
   },
   "outputs": [
    {
     "name": "stdout",
     "output_type": "stream",
     "text": [
      "RandomForestClassifier(criterion='entropy', max_depth=29, max_features='log2',\n",
      "                       random_state=23)\n"
     ]
    }
   ],
   "source": [
    "model_best = b_search.best_estimator_\n",
    "print(model_best)"
   ]
  },
  {
   "cell_type": "code",
   "execution_count": 16,
   "id": "47915faf",
   "metadata": {
    "ExecuteTime": {
     "end_time": "2022-11-20T11:31:30.649488Z",
     "start_time": "2022-11-20T11:31:30.630486Z"
    }
   },
   "outputs": [],
   "source": [
    "with open('./model_searched.pkl', 'wb') as f:\n",
    "    pickle.dump(b_search.best_estimator_, f)"
   ]
  },
  {
   "cell_type": "code",
   "execution_count": 17,
   "id": "83ed5f44",
   "metadata": {
    "ExecuteTime": {
     "end_time": "2022-11-20T11:31:31.186533Z",
     "start_time": "2022-11-20T11:31:31.145485Z"
    }
   },
   "outputs": [],
   "source": [
    "predictions = model_best.predict(X_test)"
   ]
  },
  {
   "cell_type": "code",
   "execution_count": 18,
   "id": "e1d3f302",
   "metadata": {
    "ExecuteTime": {
     "end_time": "2022-11-20T11:31:31.881519Z",
     "start_time": "2022-11-20T11:31:31.676484Z"
    }
   },
   "outputs": [
    {
     "data": {
      "text/plain": [
       "<sklearn.metrics._plot.confusion_matrix.ConfusionMatrixDisplay at 0x1c5ee69e070>"
      ]
     },
     "execution_count": 18,
     "metadata": {},
     "output_type": "execute_result"
    },
    {
     "data": {
      "image/png": "[encoded data removed]",
      "text/plain": [
       "<Figure size 432x288 with 2 Axes>"
      ]
     },
     "metadata": {
      "needs_background": "light"
     },
     "output_type": "display_data"
    }
   ],
   "source": [
    "conf_matrix = confusion_matrix(y_test, predictions)\n",
    "ConfusionMatrixDisplay(confusion_matrix=conf_matrix).plot(cmap='PuBu')"
   ]
  },
  {
   "cell_type": "code",
   "execution_count": 19,
   "id": "d7f83b24",
   "metadata": {
    "ExecuteTime": {
     "end_time": "2022-11-20T11:31:32.322703Z",
     "start_time": "2022-11-20T11:31:32.286485Z"
    }
   },
   "outputs": [
    {
     "name": "stdout",
     "output_type": "stream",
     "text": [
      "              precision    recall  f1-score   support\n",
      "\n",
      "           0       0.99      0.99      0.99       369\n",
      "           1       0.98      0.98      0.98       111\n",
      "\n",
      "    accuracy                           0.99       480\n",
      "   macro avg       0.99      0.99      0.99       480\n",
      "weighted avg       0.99      0.99      0.99       480\n",
      "\n",
      "F1-score:  0.9819819819819819\n",
      "Recall:  0.9819819819819819\n",
      "Precision:  0.9819819819819819\n"
     ]
    }
   ],
   "source": [
    "print(classification_report(y_test, predictions))\n",
    "print(\"F1-score: \", f1_score(y_test, predictions))\n",
    "print(\"Recall: \", recall_score(y_test, predictions))\n",
    "print(\"Precision: \", precision_score(y_test, predictions))"
   ]
  },
  {
   "cell_type": "markdown",
   "id": "e3eefa14",
   "metadata": {},
   "source": [
    "При подборе гиперпараметров максимизировалась метрика precision для снижения вероятности ложного обнаружения. Вероятность пропуска бота на уровне не выше 0.03 (98% точности)."
   ]
  }
 ],
 "metadata": {
  "kernelspec": {
   "display_name": "Python 3 (ipykernel)",
   "language": "python",
   "name": "python3"
  },
  "language_info": {
   "codemirror_mode": {
    "name": "ipython",
    "version": 3
   },
   "file_extension": ".py",
   "mimetype": "text/x-python",
   "name": "python",
   "nbconvert_exporter": "python",
   "pygments_lexer": "ipython3",
   "version": "3.8.10"
  }
 },
 "nbformat": 4,
 "nbformat_minor": 5
}
