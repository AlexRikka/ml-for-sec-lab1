{
 "cells": [
  {
   "cell_type": "code",
   "execution_count": 1,
   "id": "0a997593",
   "metadata": {
    "ExecuteTime": {
     "end_time": "2022-11-26T08:39:49.841880Z",
     "start_time": "2022-11-26T08:39:26.218333Z"
    }
   },
   "outputs": [],
   "source": [
    "import pandas as pd\n",
    "import numpy as np\n",
    "import matplotlib.pyplot as plt\n",
    "import seaborn as sns\n",
    "import pickle"
   ]
  },
  {
   "cell_type": "code",
   "execution_count": 2,
   "id": "76c016ac",
   "metadata": {
    "ExecuteTime": {
     "end_time": "2022-11-26T08:39:49.857918Z",
     "start_time": "2022-11-26T08:39:49.845881Z"
    }
   },
   "outputs": [],
   "source": [
    "def classify(modelFileNAme, dataFileName):\n",
    "    features = pd.read_csv(dataFileName)\n",
    "    X = features[['is_verified', 'friends_count', \n",
    "                               'friends_growth_rate','favourites_count', \n",
    "                               'favourites_growth_rate', 'user_age',\n",
    "                               'followers_count', 'listed_count', \n",
    "                               'followers_growth_rate', 'followers_friends_ratio']]\n",
    "    with open(modelFileNAme, 'rb') as f:\n",
    "        model = pickle.load(f)\n",
    "    predictions = model.predict(X)\n",
    "    return predictions"
   ]
  },
  {
   "cell_type": "code",
   "execution_count": 3,
   "id": "e31e676a",
   "metadata": {
    "ExecuteTime": {
     "end_time": "2022-11-26T08:39:54.502342Z",
     "start_time": "2022-11-26T08:39:49.869881Z"
    }
   },
   "outputs": [],
   "source": [
    "predictions = classify('model_searched.pkl', 'features_test.csv')"
   ]
  },
  {
   "cell_type": "code",
   "execution_count": 4,
   "id": "6032f097",
   "metadata": {
    "ExecuteTime": {
     "end_time": "2022-11-26T08:39:54.518473Z",
     "start_time": "2022-11-26T08:39:54.505058Z"
    }
   },
   "outputs": [],
   "source": [
    "# For classification report if needed\n",
    "from sklearn.metrics import confusion_matrix, ConfusionMatrixDisplay\n",
    "from sklearn.metrics import f1_score, recall_score, precision_score\n",
    "from sklearn.metrics import classification_report"
   ]
  },
  {
   "cell_type": "code",
   "execution_count": 5,
   "id": "69934003",
   "metadata": {
    "ExecuteTime": {
     "end_time": "2022-11-26T08:39:54.565580Z",
     "start_time": "2022-11-26T08:39:54.521061Z"
    }
   },
   "outputs": [],
   "source": [
    "y_test = pd.read_csv('classes_test.csv')\n",
    "y_test = list(y_test['is_bot'])"
   ]
  },
  {
   "cell_type": "code",
   "execution_count": 6,
   "id": "ce94d41e",
   "metadata": {
    "ExecuteTime": {
     "end_time": "2022-11-26T08:39:55.063534Z",
     "start_time": "2022-11-26T08:39:54.567580Z"
    }
   },
   "outputs": [
    {
     "data": {
      "text/plain": [
       "<sklearn.metrics._plot.confusion_matrix.ConfusionMatrixDisplay at 0x2034c962ee0>"
      ]
     },
     "execution_count": 6,
     "metadata": {},
     "output_type": "execute_result"
    },
    {
     "data": {
      "image/png": "[encoded data removed]",
      "text/plain": [
       "<Figure size 432x288 with 2 Axes>"
      ]
     },
     "metadata": {
      "needs_background": "light"
     },
     "output_type": "display_data"
    }
   ],
   "source": [
    "conf_matrix = confusion_matrix(y_test, predictions)\n",
    "ConfusionMatrixDisplay(confusion_matrix=conf_matrix).plot(cmap='PuBu')"
   ]
  },
  {
   "cell_type": "code",
   "execution_count": 7,
   "id": "4b53e47a",
   "metadata": {
    "ExecuteTime": {
     "end_time": "2022-11-26T08:39:55.110523Z",
     "start_time": "2022-11-26T08:39:55.068528Z"
    }
   },
   "outputs": [
    {
     "name": "stdout",
     "output_type": "stream",
     "text": [
      "              precision    recall  f1-score   support\n",
      "\n",
      "           0       0.99      0.99      0.99       369\n",
      "           1       0.98      0.98      0.98       111\n",
      "\n",
      "    accuracy                           0.99       480\n",
      "   macro avg       0.99      0.99      0.99       480\n",
      "weighted avg       0.99      0.99      0.99       480\n",
      "\n",
      "F1-score:  0.9819819819819819\n",
      "Recall:  0.9819819819819819\n",
      "Precision:  0.9819819819819819\n"
     ]
    }
   ],
   "source": [
    "print(classification_report(y_test, predictions))\n",
    "print(\"F1-score: \", f1_score(y_test, predictions))\n",
    "print(\"Recall: \", recall_score(y_test, predictions))\n",
    "print(\"Precision: \", precision_score(y_test, predictions))"
   ]
  },
  {
   "cell_type": "code",
   "execution_count": null,
   "id": "a09b00cf",
   "metadata": {},
   "outputs": [],
   "source": []
  }
 ],
 "metadata": {
  "kernelspec": {
   "display_name": "Python 3 (ipykernel)",
   "language": "python",
   "name": "python3"
  },
  "language_info": {
   "codemirror_mode": {
    "name": "ipython",
    "version": 3
   },
   "file_extension": ".py",
   "mimetype": "text/x-python",
   "name": "python",
   "nbconvert_exporter": "python",
   "pygments_lexer": "ipython3",
   "version": "3.8.10"
  }
 },
 "nbformat": 4,
 "nbformat_minor": 5
}
